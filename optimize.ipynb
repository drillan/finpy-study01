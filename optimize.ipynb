{
 "cells": [
  {
   "cell_type": "code",
   "execution_count": 1,
   "metadata": {
    "scrolled": false
   },
   "outputs": [],
   "source": [
    "import numpy as np\n",
    "from scipy.optimize import minimize\n",
    "from bokeh.plotting import figure, output_notebook, show"
   ]
  },
  {
   "cell_type": "markdown",
   "metadata": {},
   "source": [
    "## 特定の比率でAに賭けた場合のリターン"
   ]
  },
  {
   "cell_type": "markdown",
   "metadata": {},
   "source": [
    "### 最適化"
   ]
  },
  {
   "cell_type": "code",
   "execution_count": 2,
   "metadata": {},
   "outputs": [],
   "source": [
    "def bet_a(x):\n",
    "    return ((1 + 2 * x) ** 0.5 * (1 - x) ** 0.5) * -1"
   ]
  },
  {
   "cell_type": "code",
   "execution_count": 3,
   "metadata": {},
   "outputs": [
    {
     "data": {
      "text/plain": [
       "     fun: -1.0606601717054944\n",
       "     jac: array([ -1.67191029e-05])\n",
       " message: 'Optimization terminated successfully.'\n",
       "    nfev: 7\n",
       "     nit: 2\n",
       "    njev: 2\n",
       "  status: 0\n",
       " success: True\n",
       "       x: array([ 0.24999112])"
      ]
     },
     "execution_count": 3,
     "metadata": {},
     "output_type": "execute_result"
    }
   ],
   "source": [
    "bet_a_bounds = np.array([[0, 1]])\n",
    "bet_a0 = 0.1\n",
    "minimize(bet_a, x0=bet_a0, method=\"SLSQP\", bounds=bet_a_bounds)"
   ]
  },
  {
   "cell_type": "markdown",
   "metadata": {},
   "source": [
    "### 可視化"
   ]
  },
  {
   "cell_type": "code",
   "execution_count": 4,
   "metadata": {},
   "outputs": [
    {
     "data": {
      "text/html": [
       "\n",
       "    <div class=\"bk-root\">\n",
       "        <a href=\"https://bokeh.pydata.org\" target=\"_blank\" class=\"bk-logo bk-logo-small bk-logo-notebook\"></a>\n",
       "        <span id=\"023b9d4f-c429-4175-b83e-04b728f5e37a\">Loading BokehJS ...</span>\n",
       "    </div>"
      ]
     },
     "metadata": {},
     "output_type": "display_data"
    },
    {
     "data": {
      "application/javascript": [
       "\n",
       "(function(root) {\n",
       "  function now() {\n",
       "    return new Date();\n",
       "  }\n",
       "\n",
       "  var force = true;\n",
       "\n",
       "  if (typeof (root._bokeh_onload_callbacks) === \"undefined\" || force === true) {\n",
       "    root._bokeh_onload_callbacks = [];\n",
       "    root._bokeh_is_loading = undefined;\n",
       "  }\n",
       "\n",
       "  var JS_MIME_TYPE = 'application/javascript';\n",
       "  var HTML_MIME_TYPE = 'text/html';\n",
       "  var EXEC_MIME_TYPE = 'application/vnd.bokehjs_exec.v0+json';\n",
       "  var CLASS_NAME = 'output_bokeh rendered_html';\n",
       "\n",
       "  /**\n",
       "   * Render data to the DOM node\n",
       "   */\n",
       "  function render(props, node) {\n",
       "    var script = document.createElement(\"script\");\n",
       "    node.appendChild(script);\n",
       "  }\n",
       "\n",
       "  /**\n",
       "   * Handle when an output is cleared or removed\n",
       "   */\n",
       "  function handleClearOutput(event, handle) {\n",
       "    var cell = handle.cell;\n",
       "\n",
       "    var id = cell.output_area._bokeh_element_id;\n",
       "    var server_id = cell.output_area._bokeh_server_id;\n",
       "    // Clean up Bokeh references\n",
       "    if (id !== undefined) {\n",
       "      Bokeh.index[id].model.document.clear();\n",
       "      delete Bokeh.index[id];\n",
       "    }\n",
       "\n",
       "    if (server_id !== undefined) {\n",
       "      // Clean up Bokeh references\n",
       "      var cmd = \"from bokeh.io import _state; print(_state.uuid_to_server['\" + server_id + \"'].get_sessions()[0].document.roots[0]._id)\";\n",
       "      cell.notebook.kernel.execute(cmd, {\n",
       "        iopub: {\n",
       "          output: function(msg) {\n",
       "            var element_id = msg.content.text.trim();\n",
       "            Bokeh.index[element_id].model.document.clear();\n",
       "            delete Bokeh.index[element_id];\n",
       "          }\n",
       "        }\n",
       "      });\n",
       "      // Destroy server and session\n",
       "      var cmd = \"from bokeh import io; io._destroy_server('\" + server_id + \"')\";\n",
       "      cell.notebook.kernel.execute(cmd);\n",
       "    }\n",
       "  }\n",
       "\n",
       "  /**\n",
       "   * Handle when a new output is added\n",
       "   */\n",
       "  function handleAddOutput(event, handle) {\n",
       "    var output_area = handle.output_area;\n",
       "    var output = handle.output;\n",
       "\n",
       "    // limit handleAddOutput to display_data with EXEC_MIME_TYPE content only\n",
       "    if ((output.output_type != \"display_data\") || (!output.data.hasOwnProperty(EXEC_MIME_TYPE))) {\n",
       "      return\n",
       "    }\n",
       "\n",
       "    var toinsert = output_area.element.find(`.${CLASS_NAME.split(' ')[0]}`);\n",
       "\n",
       "    if (output.metadata[EXEC_MIME_TYPE][\"id\"] !== undefined) {\n",
       "      toinsert[0].firstChild.textContent = output.data[JS_MIME_TYPE];\n",
       "      // store reference to embed id on output_area\n",
       "      output_area._bokeh_element_id = output.metadata[EXEC_MIME_TYPE][\"id\"];\n",
       "    }\n",
       "    if (output.metadata[EXEC_MIME_TYPE][\"server_id\"] !== undefined) {\n",
       "      var bk_div = document.createElement(\"div\");\n",
       "      bk_div.innerHTML = output.data[HTML_MIME_TYPE];\n",
       "      var script_attrs = bk_div.children[0].attributes;\n",
       "      for (var i = 0; i < script_attrs.length; i++) {\n",
       "        toinsert[0].firstChild.setAttribute(script_attrs[i].name, script_attrs[i].value);\n",
       "      }\n",
       "      // store reference to server id on output_area\n",
       "      output_area._bokeh_server_id = output.metadata[EXEC_MIME_TYPE][\"server_id\"];\n",
       "    }\n",
       "  }\n",
       "\n",
       "  function register_renderer(events, OutputArea) {\n",
       "\n",
       "    function append_mime(data, metadata, element) {\n",
       "      // create a DOM node to render to\n",
       "      var toinsert = this.create_output_subarea(\n",
       "        metadata,\n",
       "        CLASS_NAME,\n",
       "        EXEC_MIME_TYPE\n",
       "      );\n",
       "      this.keyboard_manager.register_events(toinsert);\n",
       "      // Render to node\n",
       "      var props = {data: data, metadata: metadata[EXEC_MIME_TYPE]};\n",
       "      render(props, toinsert[0]);\n",
       "      element.append(toinsert);\n",
       "      return toinsert\n",
       "    }\n",
       "\n",
       "    /* Handle when an output is cleared or removed */\n",
       "    events.on('clear_output.CodeCell', handleClearOutput);\n",
       "    events.on('delete.Cell', handleClearOutput);\n",
       "\n",
       "    /* Handle when a new output is added */\n",
       "    events.on('output_added.OutputArea', handleAddOutput);\n",
       "\n",
       "    /**\n",
       "     * Register the mime type and append_mime function with output_area\n",
       "     */\n",
       "    OutputArea.prototype.register_mime_type(EXEC_MIME_TYPE, append_mime, {\n",
       "      /* Is output safe? */\n",
       "      safe: true,\n",
       "      /* Index of renderer in `output_area.display_order` */\n",
       "      index: 0\n",
       "    });\n",
       "  }\n",
       "\n",
       "  // register the mime type if in Jupyter Notebook environment and previously unregistered\n",
       "  if (root.Jupyter !== undefined) {\n",
       "    var events = require('base/js/events');\n",
       "    var OutputArea = require('notebook/js/outputarea').OutputArea;\n",
       "\n",
       "    if (OutputArea.prototype.mime_types().indexOf(EXEC_MIME_TYPE) == -1) {\n",
       "      register_renderer(events, OutputArea);\n",
       "    }\n",
       "  }\n",
       "\n",
       "  \n",
       "  if (typeof (root._bokeh_timeout) === \"undefined\" || force === true) {\n",
       "    root._bokeh_timeout = Date.now() + 5000;\n",
       "    root._bokeh_failed_load = false;\n",
       "  }\n",
       "\n",
       "  var NB_LOAD_WARNING = {'data': {'text/html':\n",
       "     \"<div style='background-color: #fdd'>\\n\"+\n",
       "     \"<p>\\n\"+\n",
       "     \"BokehJS does not appear to have successfully loaded. If loading BokehJS from CDN, this \\n\"+\n",
       "     \"may be due to a slow or bad network connection. Possible fixes:\\n\"+\n",
       "     \"</p>\\n\"+\n",
       "     \"<ul>\\n\"+\n",
       "     \"<li>re-rerun `output_notebook()` to attempt to load from CDN again, or</li>\\n\"+\n",
       "     \"<li>use INLINE resources instead, as so:</li>\\n\"+\n",
       "     \"</ul>\\n\"+\n",
       "     \"<code>\\n\"+\n",
       "     \"from bokeh.resources import INLINE\\n\"+\n",
       "     \"output_notebook(resources=INLINE)\\n\"+\n",
       "     \"</code>\\n\"+\n",
       "     \"</div>\"}};\n",
       "\n",
       "  function display_loaded() {\n",
       "    var el = document.getElementById(\"023b9d4f-c429-4175-b83e-04b728f5e37a\");\n",
       "    if (el != null) {\n",
       "      el.textContent = \"BokehJS is loading...\";\n",
       "    }\n",
       "    if (root.Bokeh !== undefined) {\n",
       "      if (el != null) {\n",
       "        el.textContent = \"BokehJS \" + root.Bokeh.version + \" successfully loaded.\";\n",
       "      }\n",
       "    } else if (Date.now() < root._bokeh_timeout) {\n",
       "      setTimeout(display_loaded, 100)\n",
       "    }\n",
       "  }\n",
       "\n",
       "\n",
       "  function run_callbacks() {\n",
       "    try {\n",
       "      root._bokeh_onload_callbacks.forEach(function(callback) { callback() });\n",
       "    }\n",
       "    finally {\n",
       "      delete root._bokeh_onload_callbacks\n",
       "    }\n",
       "    console.info(\"Bokeh: all callbacks have finished\");\n",
       "  }\n",
       "\n",
       "  function load_libs(js_urls, callback) {\n",
       "    root._bokeh_onload_callbacks.push(callback);\n",
       "    if (root._bokeh_is_loading > 0) {\n",
       "      console.log(\"Bokeh: BokehJS is being loaded, scheduling callback at\", now());\n",
       "      return null;\n",
       "    }\n",
       "    if (js_urls == null || js_urls.length === 0) {\n",
       "      run_callbacks();\n",
       "      return null;\n",
       "    }\n",
       "    console.log(\"Bokeh: BokehJS not loaded, scheduling load and callback at\", now());\n",
       "    root._bokeh_is_loading = js_urls.length;\n",
       "    for (var i = 0; i < js_urls.length; i++) {\n",
       "      var url = js_urls[i];\n",
       "      var s = document.createElement('script');\n",
       "      s.src = url;\n",
       "      s.async = false;\n",
       "      s.onreadystatechange = s.onload = function() {\n",
       "        root._bokeh_is_loading--;\n",
       "        if (root._bokeh_is_loading === 0) {\n",
       "          console.log(\"Bokeh: all BokehJS libraries loaded\");\n",
       "          run_callbacks()\n",
       "        }\n",
       "      };\n",
       "      s.onerror = function() {\n",
       "        console.warn(\"failed to load library \" + url);\n",
       "      };\n",
       "      console.log(\"Bokeh: injecting script tag for BokehJS library: \", url);\n",
       "      document.getElementsByTagName(\"head\")[0].appendChild(s);\n",
       "    }\n",
       "  };var element = document.getElementById(\"023b9d4f-c429-4175-b83e-04b728f5e37a\");\n",
       "  if (element == null) {\n",
       "    console.log(\"Bokeh: ERROR: autoload.js configured with elementid '023b9d4f-c429-4175-b83e-04b728f5e37a' but no matching script tag was found. \")\n",
       "    return false;\n",
       "  }\n",
       "\n",
       "  var js_urls = [\"https://cdn.pydata.org/bokeh/release/bokeh-0.12.9.min.js\", \"https://cdn.pydata.org/bokeh/release/bokeh-widgets-0.12.9.min.js\", \"https://cdn.pydata.org/bokeh/release/bokeh-tables-0.12.9.min.js\", \"https://cdn.pydata.org/bokeh/release/bokeh-gl-0.12.9.min.js\"];\n",
       "\n",
       "  var inline_js = [\n",
       "    function(Bokeh) {\n",
       "      Bokeh.set_log_level(\"info\");\n",
       "    },\n",
       "    \n",
       "    function(Bokeh) {\n",
       "      \n",
       "    },\n",
       "    function(Bokeh) {\n",
       "      console.log(\"Bokeh: injecting CSS: https://cdn.pydata.org/bokeh/release/bokeh-0.12.9.min.css\");\n",
       "      Bokeh.embed.inject_css(\"https://cdn.pydata.org/bokeh/release/bokeh-0.12.9.min.css\");\n",
       "      console.log(\"Bokeh: injecting CSS: https://cdn.pydata.org/bokeh/release/bokeh-widgets-0.12.9.min.css\");\n",
       "      Bokeh.embed.inject_css(\"https://cdn.pydata.org/bokeh/release/bokeh-widgets-0.12.9.min.css\");\n",
       "      console.log(\"Bokeh: injecting CSS: https://cdn.pydata.org/bokeh/release/bokeh-tables-0.12.9.min.css\");\n",
       "      Bokeh.embed.inject_css(\"https://cdn.pydata.org/bokeh/release/bokeh-tables-0.12.9.min.css\");\n",
       "    }\n",
       "  ];\n",
       "\n",
       "  function run_inline_js() {\n",
       "    \n",
       "    if ((root.Bokeh !== undefined) || (force === true)) {\n",
       "      for (var i = 0; i < inline_js.length; i++) {\n",
       "        inline_js[i].call(root, root.Bokeh);\n",
       "      }if (force === true) {\n",
       "        display_loaded();\n",
       "      }} else if (Date.now() < root._bokeh_timeout) {\n",
       "      setTimeout(run_inline_js, 100);\n",
       "    } else if (!root._bokeh_failed_load) {\n",
       "      console.log(\"Bokeh: BokehJS failed to load within specified timeout.\");\n",
       "      root._bokeh_failed_load = true;\n",
       "    } else if (force !== true) {\n",
       "      var cell = $(document.getElementById(\"023b9d4f-c429-4175-b83e-04b728f5e37a\")).parents('.cell').data().cell;\n",
       "      cell.output_area.append_execute_result(NB_LOAD_WARNING)\n",
       "    }\n",
       "\n",
       "  }\n",
       "\n",
       "  if (root._bokeh_is_loading === 0) {\n",
       "    console.log(\"Bokeh: BokehJS loaded, going straight to plotting\");\n",
       "    run_inline_js();\n",
       "  } else {\n",
       "    load_libs(js_urls, function() {\n",
       "      console.log(\"Bokeh: BokehJS plotting callback run at\", now());\n",
       "      run_inline_js();\n",
       "    });\n",
       "  }\n",
       "}(window));"
      ],
      "application/vnd.bokehjs_load.v0+json": "\n(function(root) {\n  function now() {\n    return new Date();\n  }\n\n  var force = true;\n\n  if (typeof (root._bokeh_onload_callbacks) === \"undefined\" || force === true) {\n    root._bokeh_onload_callbacks = [];\n    root._bokeh_is_loading = undefined;\n  }\n\n  \n\n  \n  if (typeof (root._bokeh_timeout) === \"undefined\" || force === true) {\n    root._bokeh_timeout = Date.now() + 5000;\n    root._bokeh_failed_load = false;\n  }\n\n  var NB_LOAD_WARNING = {'data': {'text/html':\n     \"<div style='background-color: #fdd'>\\n\"+\n     \"<p>\\n\"+\n     \"BokehJS does not appear to have successfully loaded. If loading BokehJS from CDN, this \\n\"+\n     \"may be due to a slow or bad network connection. Possible fixes:\\n\"+\n     \"</p>\\n\"+\n     \"<ul>\\n\"+\n     \"<li>re-rerun `output_notebook()` to attempt to load from CDN again, or</li>\\n\"+\n     \"<li>use INLINE resources instead, as so:</li>\\n\"+\n     \"</ul>\\n\"+\n     \"<code>\\n\"+\n     \"from bokeh.resources import INLINE\\n\"+\n     \"output_notebook(resources=INLINE)\\n\"+\n     \"</code>\\n\"+\n     \"</div>\"}};\n\n  function display_loaded() {\n    var el = document.getElementById(\"023b9d4f-c429-4175-b83e-04b728f5e37a\");\n    if (el != null) {\n      el.textContent = \"BokehJS is loading...\";\n    }\n    if (root.Bokeh !== undefined) {\n      if (el != null) {\n        el.textContent = \"BokehJS \" + root.Bokeh.version + \" successfully loaded.\";\n      }\n    } else if (Date.now() < root._bokeh_timeout) {\n      setTimeout(display_loaded, 100)\n    }\n  }\n\n\n  function run_callbacks() {\n    try {\n      root._bokeh_onload_callbacks.forEach(function(callback) { callback() });\n    }\n    finally {\n      delete root._bokeh_onload_callbacks\n    }\n    console.info(\"Bokeh: all callbacks have finished\");\n  }\n\n  function load_libs(js_urls, callback) {\n    root._bokeh_onload_callbacks.push(callback);\n    if (root._bokeh_is_loading > 0) {\n      console.log(\"Bokeh: BokehJS is being loaded, scheduling callback at\", now());\n      return null;\n    }\n    if (js_urls == null || js_urls.length === 0) {\n      run_callbacks();\n      return null;\n    }\n    console.log(\"Bokeh: BokehJS not loaded, scheduling load and callback at\", now());\n    root._bokeh_is_loading = js_urls.length;\n    for (var i = 0; i < js_urls.length; i++) {\n      var url = js_urls[i];\n      var s = document.createElement('script');\n      s.src = url;\n      s.async = false;\n      s.onreadystatechange = s.onload = function() {\n        root._bokeh_is_loading--;\n        if (root._bokeh_is_loading === 0) {\n          console.log(\"Bokeh: all BokehJS libraries loaded\");\n          run_callbacks()\n        }\n      };\n      s.onerror = function() {\n        console.warn(\"failed to load library \" + url);\n      };\n      console.log(\"Bokeh: injecting script tag for BokehJS library: \", url);\n      document.getElementsByTagName(\"head\")[0].appendChild(s);\n    }\n  };var element = document.getElementById(\"023b9d4f-c429-4175-b83e-04b728f5e37a\");\n  if (element == null) {\n    console.log(\"Bokeh: ERROR: autoload.js configured with elementid '023b9d4f-c429-4175-b83e-04b728f5e37a' but no matching script tag was found. \")\n    return false;\n  }\n\n  var js_urls = [\"https://cdn.pydata.org/bokeh/release/bokeh-0.12.9.min.js\", \"https://cdn.pydata.org/bokeh/release/bokeh-widgets-0.12.9.min.js\", \"https://cdn.pydata.org/bokeh/release/bokeh-tables-0.12.9.min.js\", \"https://cdn.pydata.org/bokeh/release/bokeh-gl-0.12.9.min.js\"];\n\n  var inline_js = [\n    function(Bokeh) {\n      Bokeh.set_log_level(\"info\");\n    },\n    \n    function(Bokeh) {\n      \n    },\n    function(Bokeh) {\n      console.log(\"Bokeh: injecting CSS: https://cdn.pydata.org/bokeh/release/bokeh-0.12.9.min.css\");\n      Bokeh.embed.inject_css(\"https://cdn.pydata.org/bokeh/release/bokeh-0.12.9.min.css\");\n      console.log(\"Bokeh: injecting CSS: https://cdn.pydata.org/bokeh/release/bokeh-widgets-0.12.9.min.css\");\n      Bokeh.embed.inject_css(\"https://cdn.pydata.org/bokeh/release/bokeh-widgets-0.12.9.min.css\");\n      console.log(\"Bokeh: injecting CSS: https://cdn.pydata.org/bokeh/release/bokeh-tables-0.12.9.min.css\");\n      Bokeh.embed.inject_css(\"https://cdn.pydata.org/bokeh/release/bokeh-tables-0.12.9.min.css\");\n    }\n  ];\n\n  function run_inline_js() {\n    \n    if ((root.Bokeh !== undefined) || (force === true)) {\n      for (var i = 0; i < inline_js.length; i++) {\n        inline_js[i].call(root, root.Bokeh);\n      }if (force === true) {\n        display_loaded();\n      }} else if (Date.now() < root._bokeh_timeout) {\n      setTimeout(run_inline_js, 100);\n    } else if (!root._bokeh_failed_load) {\n      console.log(\"Bokeh: BokehJS failed to load within specified timeout.\");\n      root._bokeh_failed_load = true;\n    } else if (force !== true) {\n      var cell = $(document.getElementById(\"023b9d4f-c429-4175-b83e-04b728f5e37a\")).parents('.cell').data().cell;\n      cell.output_area.append_execute_result(NB_LOAD_WARNING)\n    }\n\n  }\n\n  if (root._bokeh_is_loading === 0) {\n    console.log(\"Bokeh: BokehJS loaded, going straight to plotting\");\n    run_inline_js();\n  } else {\n    load_libs(js_urls, function() {\n      console.log(\"Bokeh: BokehJS plotting callback run at\", now());\n      run_inline_js();\n    });\n  }\n}(window));"
     },
     "metadata": {},
     "output_type": "display_data"
    },
    {
     "data": {
      "text/html": [
       "\n",
       "<div class=\"bk-root\">\n",
       "    <div class=\"bk-plotdiv\" id=\"ed9032fd-c2ed-41fa-9b20-d02a692d7cf2\"></div>\n",
       "</div>"
      ]
     },
     "metadata": {},
     "output_type": "display_data"
    },
    {
     "data": {
      "application/javascript": [
       "(function(root) {\n",
       "  function embed_document(root) {\n",
       "    var docs_json = {\"65ebd812-9e73-4885-888a-55b7a203831b\":{\"roots\":{\"references\":[{\"attributes\":{\"axis_label\":\"\\u30ea\\u30bf\\u30fc\\u30f3\",\"formatter\":{\"id\":\"172ec7e1-dbde-4839-a695-92214bd317bc\",\"type\":\"BasicTickFormatter\"},\"plot\":{\"id\":\"9dc6f7e9-9040-4830-b00d-d6c10e1327e1\",\"subtype\":\"Figure\",\"type\":\"Plot\"},\"ticker\":{\"id\":\"0cce8109-5039-4105-92ad-2a07908a1a64\",\"type\":\"BasicTicker\"}},\"id\":\"786bbc4f-d583-4d79-90e9-a0bda115eba6\",\"type\":\"LinearAxis\"},{\"attributes\":{\"line_color\":{\"value\":\"#1f77b4\"},\"x\":{\"field\":\"x\"},\"y\":{\"field\":\"y\"}},\"id\":\"5957c00a-3b4a-461c-8908-8429d12dd1e1\",\"type\":\"Line\"},{\"attributes\":{},\"id\":\"0cce8109-5039-4105-92ad-2a07908a1a64\",\"type\":\"BasicTicker\"},{\"attributes\":{\"dimension\":1,\"plot\":{\"id\":\"9dc6f7e9-9040-4830-b00d-d6c10e1327e1\",\"subtype\":\"Figure\",\"type\":\"Plot\"},\"ticker\":{\"id\":\"0cce8109-5039-4105-92ad-2a07908a1a64\",\"type\":\"BasicTicker\"}},\"id\":\"3359e46c-00f3-4e80-a961-68bfad2e91e2\",\"type\":\"Grid\"},{\"attributes\":{\"source\":{\"id\":\"aaedf99a-988c-4fd1-bb07-f4ab4f0044d7\",\"type\":\"ColumnDataSource\"}},\"id\":\"3828fc2b-1caa-4a3a-a201-3261c603d9b1\",\"type\":\"CDSView\"},{\"attributes\":{\"bottom_units\":\"screen\",\"fill_alpha\":{\"value\":0.5},\"fill_color\":{\"value\":\"lightgrey\"},\"left_units\":\"screen\",\"level\":\"overlay\",\"line_alpha\":{\"value\":1.0},\"line_color\":{\"value\":\"black\"},\"line_dash\":[4,4],\"line_width\":{\"value\":2},\"plot\":null,\"render_mode\":\"css\",\"right_units\":\"screen\",\"top_units\":\"screen\"},\"id\":\"489dcf0f-2f50-4143-940e-c86d74b403dd\",\"type\":\"BoxAnnotation\"},{\"attributes\":{\"active_drag\":\"auto\",\"active_inspect\":\"auto\",\"active_scroll\":\"auto\",\"active_tap\":\"auto\",\"tools\":[{\"id\":\"8e818dd3-0d4e-49c6-ae60-53929ff34963\",\"type\":\"PanTool\"},{\"id\":\"1c7cf1e2-14cb-4ae9-967e-4ac58a3d7830\",\"type\":\"WheelZoomTool\"},{\"id\":\"14ff1452-d4c4-473c-8f9b-4b027f7cecc9\",\"type\":\"BoxZoomTool\"},{\"id\":\"ec1aaab0-221a-4fe1-afaf-385e24cf4ee4\",\"type\":\"SaveTool\"},{\"id\":\"5a657188-c8b4-4604-aecc-3078f898ba3d\",\"type\":\"ResetTool\"},{\"id\":\"fe250ef2-394c-42a2-9298-3298a71fd902\",\"type\":\"HelpTool\"}]},\"id\":\"214f786b-ab43-405d-a684-2da8d6868160\",\"type\":\"Toolbar\"},{\"attributes\":{},\"id\":\"8e818dd3-0d4e-49c6-ae60-53929ff34963\",\"type\":\"PanTool\"},{\"attributes\":{\"plot\":null,\"text\":\"\"},\"id\":\"c9ed267f-e800-4702-8277-aa4450e9e231\",\"type\":\"Title\"},{\"attributes\":{\"below\":[{\"id\":\"5b0f8aa2-270f-4ab4-87bc-6703fdb15447\",\"type\":\"LinearAxis\"}],\"left\":[{\"id\":\"786bbc4f-d583-4d79-90e9-a0bda115eba6\",\"type\":\"LinearAxis\"}],\"plot_height\":300,\"plot_width\":400,\"renderers\":[{\"id\":\"5b0f8aa2-270f-4ab4-87bc-6703fdb15447\",\"type\":\"LinearAxis\"},{\"id\":\"b34b0612-9a90-4cdb-b8c3-0a854d5c0d78\",\"type\":\"Grid\"},{\"id\":\"786bbc4f-d583-4d79-90e9-a0bda115eba6\",\"type\":\"LinearAxis\"},{\"id\":\"3359e46c-00f3-4e80-a961-68bfad2e91e2\",\"type\":\"Grid\"},{\"id\":\"489dcf0f-2f50-4143-940e-c86d74b403dd\",\"type\":\"BoxAnnotation\"},{\"id\":\"41d6e393-54c7-4074-8cce-084e2ec0d3a0\",\"type\":\"GlyphRenderer\"}],\"title\":{\"id\":\"c9ed267f-e800-4702-8277-aa4450e9e231\",\"type\":\"Title\"},\"toolbar\":{\"id\":\"214f786b-ab43-405d-a684-2da8d6868160\",\"type\":\"Toolbar\"},\"x_range\":{\"id\":\"8787f594-a801-4ae6-b2b9-3a9cebe8cfaf\",\"type\":\"DataRange1d\"},\"x_scale\":{\"id\":\"2af8eabb-9bfa-4883-923b-1dd30e886fc7\",\"type\":\"LinearScale\"},\"y_range\":{\"id\":\"3e70c4ac-ef47-4021-8c47-d9bac4575802\",\"type\":\"DataRange1d\"},\"y_scale\":{\"id\":\"4a0950d0-eda0-4b04-a695-9eb2d59a9ac4\",\"type\":\"LinearScale\"}},\"id\":\"9dc6f7e9-9040-4830-b00d-d6c10e1327e1\",\"subtype\":\"Figure\",\"type\":\"Plot\"},{\"attributes\":{\"data_source\":{\"id\":\"aaedf99a-988c-4fd1-bb07-f4ab4f0044d7\",\"type\":\"ColumnDataSource\"},\"glyph\":{\"id\":\"5957c00a-3b4a-461c-8908-8429d12dd1e1\",\"type\":\"Line\"},\"hover_glyph\":null,\"muted_glyph\":null,\"nonselection_glyph\":{\"id\":\"cd8ab5ae-61c5-4da2-8278-89d453c81b5b\",\"type\":\"Line\"},\"selection_glyph\":null,\"view\":{\"id\":\"3828fc2b-1caa-4a3a-a201-3261c603d9b1\",\"type\":\"CDSView\"}},\"id\":\"41d6e393-54c7-4074-8cce-084e2ec0d3a0\",\"type\":\"GlyphRenderer\"},{\"attributes\":{\"callback\":null,\"column_names\":[\"x\",\"y\"],\"data\":{\"x\":{\"__ndarray__\":\"AAAAAAAAAABbv1Kg1q+EP1u/UqDWr5Q/CB988MEHnz9bv1Kg1q+kPzJvZ0jM26k/CB988MEHrz9wZ0jM2xmyP1u/UqDWr7Q/RhdddNFFtz8yb2dIzNu5Px3HcRzHcbw/CB988MEHvz96O0Ni3s7AP3BnSMzbGcI/ZZNNNtlkwz9bv1Kg1q/EP1HrVwrU+sU/RhdddNFFxz88Q2LezpDIPzJvZ0jM28k/J5tssskmyz8dx3Ecx3HMPxPzdobEvM0/CB988MEHzz9/pUCtXynQP3o7Q2LeztA/ddFFF1100T9wZ0jM2xnSP2r9SoFav9I/ZZNNNtlk0z9gKVDrVwrUP1u/UqDWr9Q/VlVVVVVV1T9R61cK1PrVP0yBWr9SoNY/RhdddNFF1z9BrV8pUOvXPzxDYt7OkNg/N9lkk0022T8yb2dIzNvZPy0Fav1Kgdo/J5tssskm2z8iMW9nSMzbPx3HcRzHcdw/GF100UUX3T8T83aGxLzdPw6JeTtDYt4/CB988MEH3z8DtX6lQK3fP3+lQK1fKeA/ffDBBx984D96O0Ni3s7gP3eGxLydIeE/ddFFF1104T9yHMdxHMfhP3BnSMzbGeI/bbLJJpts4j9q/UqBWr/iP2hIzNsZEuM/ZZNNNtlk4z9j3s6QmLfjP2ApUOtXCuQ/XnTRRRdd5D9bv1Kg1q/kP1gK1PqVAuU/VlVVVVVV5T9ToNavFKjlP1HrVwrU+uU/TjbZZJNN5j9MgVq/UqDmP0nM2xkS8+Y/RhdddNFF5z9EYt7OkJjnP0GtXylQ6+c/P/jggw8+6D88Q2LezpDoPzmO4ziO4+g/N9lkk0026T80JObtDInpPzJvZ0jM2+k/L7rooosu6j8tBWr9SoHqPypQ61cK1Oo/J5tssskm6z8l5u0MiXnrPyIxb2dIzOs/IHzwwQcf7D8dx3Ecx3HsPxsS83aGxOw/GF100UUX7T8VqPUrBWrtPxPzdobEvO0/ED744IMP7j8OiXk7Q2LuPwvU+pUCte4/CB988MEH7z8Gav1KgVrvPwO1fqVAre8/AAAAAAAA8D8=\",\"dtype\":\"float64\",\"shape\":[100]},\"y\":[1.0,1.004936291160235,1.0096463623276886,1.0141333654958493,1.0184002491368989,1.022449769060571,1.0262844982955213,1.0299068360833037,1.0333190160644052,1.036523113726489,1.039521053176875,1.0423146132940955,1.0449054333070706,1.0472950178448346,1.04948474149477,1.0514758529028772,1.053269478445606,1.0548666254992063,1.0562681853292955,1.057474935620396,1.0584875426624707,1.0593065632090022,1.0599324460188284,1.0603655330917747,1.0606060606060606,1.0606541595635062,1.0605098561466484,1.0601730717900546,1.0596436229662747,1.0589212206850809,1.0580054697027934,1.0568958674366327,1.0555918025771103,1.0540925533894598,1.0523972856929964,1.0505050505050506,1.0484147813337086,1.0461252911010015,1.0436352686753447,1.0409432749889496,1.0380477387125018,1.0349469514556355,1.0316390624575273,1.02812207272723,1.0243938285880987,1.0204520145747114,1.0162941456239665,1.0119175584943996,1.0073194023390704,1.0024966283474348,0.9974459783602141,0.9921639723481757,0.9866468946306048,0.9808907786917346,0.9748913904330553,0.9686442096757052,0.9621444096993987,0.9553868345717845,0.9483659739837474,0.941075935260777,0.933510412166628,0.9256626500512086,0.9175254068176545,0.9090909090909091,0.9003508028581558,0.8912960977153851,0.8819171036881969,0.8722033593908243,0.8621435500351773,0.8517254134881936,0.8409356321834434,0.8297597081984989,0.8181818181818182,0.8061846440094914,0.7937491740152379,0.7808544682863712,0.7674773797418838,0.753592220347252,0.7391703586454828,0.724179730462017,0.7085842386786093,0.6923430096239916,0.6754094617537022,0.6577301250949374,0.639243124537242,0.6198762017198486,0.5995440909798666,0.5781449705557244,0.5555555555555555,0.5316241360380105,0.5061603966209108,0.47891998347998765,0.44958006230844183,0.4176984470330369,0.3826403419166826,0.34343434343434315,0.2984502364180637,0.2445195643820238,0.1734905458314912,0.0]}},\"id\":\"aaedf99a-988c-4fd1-bb07-f4ab4f0044d7\",\"type\":\"ColumnDataSource\"},{\"attributes\":{},\"id\":\"1c7cf1e2-14cb-4ae9-967e-4ac58a3d7830\",\"type\":\"WheelZoomTool\"},{\"attributes\":{\"callback\":null},\"id\":\"8787f594-a801-4ae6-b2b9-3a9cebe8cfaf\",\"type\":\"DataRange1d\"},{\"attributes\":{},\"id\":\"d534264f-fc80-4dd8-9e4d-aa4c8c9df2a4\",\"type\":\"BasicTickFormatter\"},{\"attributes\":{\"overlay\":{\"id\":\"489dcf0f-2f50-4143-940e-c86d74b403dd\",\"type\":\"BoxAnnotation\"}},\"id\":\"14ff1452-d4c4-473c-8f9b-4b027f7cecc9\",\"type\":\"BoxZoomTool\"},{\"attributes\":{},\"id\":\"ec1aaab0-221a-4fe1-afaf-385e24cf4ee4\",\"type\":\"SaveTool\"},{\"attributes\":{\"callback\":null},\"id\":\"3e70c4ac-ef47-4021-8c47-d9bac4575802\",\"type\":\"DataRange1d\"},{\"attributes\":{},\"id\":\"5a657188-c8b4-4604-aecc-3078f898ba3d\",\"type\":\"ResetTool\"},{\"attributes\":{},\"id\":\"2af8eabb-9bfa-4883-923b-1dd30e886fc7\",\"type\":\"LinearScale\"},{\"attributes\":{},\"id\":\"fe250ef2-394c-42a2-9298-3298a71fd902\",\"type\":\"HelpTool\"},{\"attributes\":{},\"id\":\"4a0950d0-eda0-4b04-a695-9eb2d59a9ac4\",\"type\":\"LinearScale\"},{\"attributes\":{},\"id\":\"172ec7e1-dbde-4839-a695-92214bd317bc\",\"type\":\"BasicTickFormatter\"},{\"attributes\":{\"line_alpha\":{\"value\":0.1},\"line_color\":{\"value\":\"#1f77b4\"},\"x\":{\"field\":\"x\"},\"y\":{\"field\":\"y\"}},\"id\":\"cd8ab5ae-61c5-4da2-8278-89d453c81b5b\",\"type\":\"Line\"},{\"attributes\":{\"axis_label\":\"A\\u306b\\u8ced\\u3051\\u308b\\u6bd4\\u7387\",\"formatter\":{\"id\":\"d534264f-fc80-4dd8-9e4d-aa4c8c9df2a4\",\"type\":\"BasicTickFormatter\"},\"plot\":{\"id\":\"9dc6f7e9-9040-4830-b00d-d6c10e1327e1\",\"subtype\":\"Figure\",\"type\":\"Plot\"},\"ticker\":{\"id\":\"2f7984b3-0a74-4c35-ae1f-e1b73827622d\",\"type\":\"BasicTicker\"}},\"id\":\"5b0f8aa2-270f-4ab4-87bc-6703fdb15447\",\"type\":\"LinearAxis\"},{\"attributes\":{},\"id\":\"2f7984b3-0a74-4c35-ae1f-e1b73827622d\",\"type\":\"BasicTicker\"},{\"attributes\":{\"plot\":{\"id\":\"9dc6f7e9-9040-4830-b00d-d6c10e1327e1\",\"subtype\":\"Figure\",\"type\":\"Plot\"},\"ticker\":{\"id\":\"2f7984b3-0a74-4c35-ae1f-e1b73827622d\",\"type\":\"BasicTicker\"}},\"id\":\"b34b0612-9a90-4cdb-b8c3-0a854d5c0d78\",\"type\":\"Grid\"}],\"root_ids\":[\"9dc6f7e9-9040-4830-b00d-d6c10e1327e1\"]},\"title\":\"Bokeh Application\",\"version\":\"0.12.9\"}};\n",
       "    var render_items = [{\"docid\":\"65ebd812-9e73-4885-888a-55b7a203831b\",\"elementid\":\"ed9032fd-c2ed-41fa-9b20-d02a692d7cf2\",\"modelid\":\"9dc6f7e9-9040-4830-b00d-d6c10e1327e1\"}];\n",
       "\n",
       "    root.Bokeh.embed.embed_items(docs_json, render_items);\n",
       "  }\n",
       "\n",
       "  if (root.Bokeh !== undefined) {\n",
       "    embed_document(root);\n",
       "  } else {\n",
       "    var attempts = 0;\n",
       "    var timer = setInterval(function(root) {\n",
       "      if (root.Bokeh !== undefined) {\n",
       "        embed_document(root);\n",
       "        clearInterval(timer);\n",
       "      }\n",
       "      attempts++;\n",
       "      if (attempts > 100) {\n",
       "        console.log(\"Bokeh: ERROR: Unable to embed document because BokehJS library is missing\")\n",
       "        clearInterval(timer);\n",
       "      }\n",
       "    }, 10, root)\n",
       "  }\n",
       "})(window);"
      ],
      "application/vnd.bokehjs_exec.v0+json": ""
     },
     "metadata": {
      "application/vnd.bokehjs_exec.v0+json": {
       "id": "9dc6f7e9-9040-4830-b00d-d6c10e1327e1"
      }
     },
     "output_type": "display_data"
    }
   ],
   "source": [
    "x = np.linspace(0, 1, 100)\n",
    "\n",
    "p = figure(plot_width=400, plot_height=300)\n",
    "p.line(x, [-bet_a(f) for f in x])\n",
    "p.yaxis.axis_label = 'リターン'\n",
    "p.xaxis.axis_label = 'Aに賭ける比率'\n",
    "output_notebook()\n",
    "show(p)"
   ]
  },
  {
   "cell_type": "markdown",
   "metadata": {},
   "source": [
    "## A、B、Cを組み合わせた場合の最適化"
   ]
  },
  {
   "cell_type": "markdown",
   "metadata": {
    "collapsed": true
   },
   "source": [
    "Aに賭ける金額、Bに賭ける金額、Cに賭ける金額、手元に残す資金をa, b, c, dとすると  \n",
    "下記の最大値をとるようにする\n",
    "\\begin{equation}\n",
    "  (3a+d)^{\\frac{1}{2}}(2b+d)^{\\frac{1}{3}}(6c+d)^{\\frac{1}{6}}\n",
    "\\end{equation}"
   ]
  },
  {
   "cell_type": "code",
   "execution_count": 5,
   "metadata": {},
   "outputs": [],
   "source": [
    "def bet_all(x):\n",
    "    a, b, c, d = x\n",
    "    m = \\\n",
    "        (3 * a + d) ** (1 / 2) * \\\n",
    "        (2 * b + d) ** (1 / 3) * \\\n",
    "        (6 * c + d) ** (1 / 6)\n",
    "    return -m"
   ]
  },
  {
   "cell_type": "code",
   "execution_count": 6,
   "metadata": {},
   "outputs": [],
   "source": [
    "cons = (\n",
    "    {'type': 'eq', 'fun': lambda x: 1 - sum(x)}\n",
    ")\n",
    "bet_all0 = np.array([0.5, 0.35, 0.15, 0])\n",
    "bet_all_bounds = np.array([[0, 1], [0, 1], [0, 1], [0, 1]])"
   ]
  },
  {
   "cell_type": "code",
   "execution_count": 7,
   "metadata": {},
   "outputs": [
    {
     "data": {
      "text/plain": [
       "     fun: -1.0699129678097514\n",
       "     jac: array([-1.06970009, -1.0707888 , -1.06880252, -1.07009485])\n",
       " message: 'Optimization terminated successfully.'\n",
       "    nfev: 26\n",
       "     nit: 4\n",
       "    njev: 4\n",
       "  status: 0\n",
       " success: True\n",
       "       x: array([ 0.49988722,  0.33274228,  0.16673368,  0.00063682])"
      ]
     },
     "execution_count": 7,
     "metadata": {},
     "output_type": "execute_result"
    }
   ],
   "source": [
    "minimize(bet_all, x0=np.array([0.4, 0.4, 0.2, 0]),\n",
    "         constraints=cons, method=\"SLSQP\", bounds=bet_all_bounds)"
   ]
  },
  {
   "cell_type": "markdown",
   "metadata": {},
   "source": [
    "下記の比率と大体同じになる  \n",
    "* a: 1 / 2 \n",
    "* b: 1 / 3 \n",
    "* c: 1 / 6 \n",
    "* d: 0 "
   ]
  },
  {
   "cell_type": "code",
   "execution_count": 8,
   "metadata": {},
   "outputs": [
    {
     "data": {
      "text/plain": [
       "'a:0.50, b:0.33, c:0.17, d:0.00'"
      ]
     },
     "execution_count": 8,
     "metadata": {},
     "output_type": "execute_result"
    }
   ],
   "source": [
    "'a:{0:.2f}, b:{1:.2f}, c:{2:.2f}, d:{3:.2f}'.format(1 / 2, 1 / 3, 1 / 6, 0)"
   ]
  },
  {
   "cell_type": "code",
   "execution_count": 9,
   "metadata": {},
   "outputs": [
    {
     "data": {
      "text/plain": [
       "     fun: -1.069913193919471\n",
       "     jac: array([-1.07050577, -1.06819969, -1.07156689, -1.06952961])\n",
       " message: 'Optimization terminated successfully.'\n",
       "    nfev: 27\n",
       "     nit: 4\n",
       "    njev: 4\n",
       "  status: 0\n",
       " success: True\n",
       "       x: array([ 0.29852377,  0.03112464,  0.06593063,  0.60442096])"
      ]
     },
     "execution_count": 9,
     "metadata": {},
     "output_type": "execute_result"
    }
   ],
   "source": [
    "minimize(bet_all, x0=np.array([0.3, 0, 0.1, 0.6]),\n",
    "         constraints=cons, method=\"SLSQP\", bounds=bet_all_bounds)"
   ]
  },
  {
   "cell_type": "markdown",
   "metadata": {},
   "source": [
    "下記の比率と大体同じになる  \n",
    "* a: 5 / 18 \n",
    "* b: 0 \n",
    "* c: 1 / 18 \n",
    "* d: 2 / 3 "
   ]
  },
  {
   "cell_type": "code",
   "execution_count": 10,
   "metadata": {},
   "outputs": [
    {
     "data": {
      "text/plain": [
       "'a:0.28, b:0.00, c:0.06, d:0.67'"
      ]
     },
     "execution_count": 10,
     "metadata": {},
     "output_type": "execute_result"
    }
   ],
   "source": [
    "'a:{0:.2f}, b:{1:.2f}, c:{2:.2f}, d:{3:.2f}'.format(5 / 18, 0, 1 / 18, 2 / 3)"
   ]
  },
  {
   "cell_type": "code",
   "execution_count": null,
   "metadata": {},
   "outputs": [],
   "source": []
  }
 ],
 "metadata": {
  "kernelspec": {
   "display_name": "Python 3",
   "language": "python",
   "name": "python3"
  },
  "language_info": {
   "codemirror_mode": {
    "name": "ipython",
    "version": 3
   },
   "file_extension": ".py",
   "mimetype": "text/x-python",
   "name": "python",
   "nbconvert_exporter": "python",
   "pygments_lexer": "ipython3",
   "version": "3.6.3"
  }
 },
 "nbformat": 4,
 "nbformat_minor": 2
}
